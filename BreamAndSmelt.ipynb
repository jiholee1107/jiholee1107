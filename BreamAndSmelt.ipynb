{
  "nbformat": 4,
  "nbformat_minor": 0,
  "metadata": {
    "colab": {
      "name": "BreamAndSmelt.ipynb",
      "provenance": [],
      "collapsed_sections": [],
      "authorship_tag": "ABX9TyMnduDNsQ87N7QKGh3AEB6i",
      "include_colab_link": true
    },
    "kernelspec": {
      "name": "python3",
      "display_name": "Python 3"
    },
    "language_info": {
      "name": "python"
    },
    "gpuClass": "standard"
  },
  "cells": [
    {
      "cell_type": "markdown",
      "metadata": {
        "id": "view-in-github",
        "colab_type": "text"
      },
      "source": [
        "<a href=\"https://colab.research.google.com/github/jiholee1107/jiholee1107/blob/main/BreamAndSmelt.ipynb\" target=\"_parent\"><img src=\"https://colab.research.google.com/assets/colab-badge.svg\" alt=\"Open In Colab\"/></a>"
      ]
    },
    {
      "cell_type": "markdown",
      "source": [
        "# 도미 데이터 준비하기"
      ],
      "metadata": {
        "id": "tbofNmsYE8D4"
      }
    },
    {
      "cell_type": "code",
      "source": [
        "bream_length = [25.4, 26.3, 26.5, 29.0, 29.0, 29.7, 29.7, 30.0, 30.0, 30.7, 31.0, 31.0, 31.5, 32.0, 32.0, 32.0, 33.0, 33.0, 33.5, 33.5, 34.0, 34.0, 34.5, 35.0, 35.0, 35.0, 35.0, 36.0, 36.0, 37.0, 38.5, 38.5, 39.5, 41.0, 41.0]\n",
        "bream_weight = [242.0, 290.0, 340.0, 363.0, 430.0, 450.0, 500.0, 390.0, 450.0, 500.0, 475.0, 500.0, 500.0, 340.0, 600.0, 600.0, 700.0, 700.0, 610.0, 650.0, 575.0, 685.0, 620.0, 680.0, 700.0, 725.0, 720.0, 714.0, 850.0, 1000.0, 920.0, 955.0, 925.0, 975.0, 950.0]\n",
        "import matplotlib.pyplot as plt\n",
        "plt.scatter(bream_length,bream_weight) \n",
        "plt.xlabel('length') #x축 이름 설정\n",
        "plt.ylabel('weight') #y축 이름 설정\n",
        "plt.show()"
      ],
      "metadata": {
        "colab": {
          "base_uri": "https://localhost:8080/",
          "height": 279
        },
        "id": "LT4wX83lE8fd",
        "outputId": "0dee489a-7139-4786-8557-a8cb9934a91f"
      },
      "execution_count": 14,
      "outputs": [
        {
          "output_type": "display_data",
          "data": {
            "text/plain": [
              "<Figure size 432x288 with 1 Axes>"
            ],
            "image/png": "[encoded data removed]"
          },
          "metadata": {
            "needs_background": "light"
          }
        }
      ]
    },
    {
      "cell_type": "markdown",
      "source": [
        "\n",
        "*   *이렇게 산점도 그래프가 일직선에 가까운 형태로 나타나는 경우를 '선형'적이라고 말한다.*\n",
        "\n",
        "\n",
        "\n",
        "\n"
      ],
      "metadata": {
        "id": "uInsrDh64naG"
      }
    },
    {
      "cell_type": "markdown",
      "source": [
        "# 빙어 데이터 준비하기"
      ],
      "metadata": {
        "id": "NEgJHUfTFEQW"
      }
    },
    {
      "cell_type": "code",
      "source": [
        "smelt_length = [9.8, 10.5, 10.6, 11.0, 11.2, 11.3, 11.8, 11.8, 12.0, 12.2, 12.4, 13.0, 14.3, 15.0]\n",
        "smelt_weight = [6.7, 7.5, 7.0, 9.7, 9.8, 8.7, 10.0, 9.9, 9.8, 12.2, 13.4, 12.2, 19.7, 19.9]\n",
        "plt.scatter(bream_length,bream_weight) #2개의 산점도를 한 그래프로 그리는 방법: scatter() 함수 연달아 사용하기\n",
        "plt.scatter(smelt_length,smelt_weight)\n",
        "plt.xlabel('length')\n",
        "plt.ylabel('weight')\n",
        "plt.show()"
      ],
      "metadata": {
        "colab": {
          "base_uri": "https://localhost:8080/",
          "height": 279
        },
        "id": "9SZfRqP9FJ7U",
        "outputId": "bd235e28-36f3-4e26-a842-75bb41a9bd2a"
      },
      "execution_count": 15,
      "outputs": [
        {
          "output_type": "display_data",
          "data": {
            "text/plain": [
              "<Figure size 432x288 with 1 Axes>"
            ],
            "image/png": "[encoded data removed]"
          },
          "metadata": {
            "needs_background": "light"
          }
        }
      ]
    },
    {
      "cell_type": "markdown",
      "source": [
        "\n",
        "*   *주황: 빙어의 산점도/ 파랑: 도미의 산점도*\n",
        "*   *빙어는 도미에 비해 길이도 무게도 매우 작다.*\n",
        "*   *빙어는 길이가 늘어나더라도 무게가 많이 늘지 않는다. 따라서 빙어의 산점도도 선형적이지만 무게가 길이에 영향을 덜 받는다고 볼 수 있다.*"
      ],
      "metadata": {
        "id": "jL_2qCDE510V"
      }
    },
    {
      "cell_type": "markdown",
      "source": [
        "# K-최근접 이웃 알고리즘"
      ],
      "metadata": {
        "id": "N45J0qYGSK7I"
      }
    },
    {
      "cell_type": "markdown",
      "source": [
        ""
      ],
      "metadata": {
        "id": "hHFwrlpy8uwg"
      }
    },
    {
      "cell_type": "markdown",
      "source": [
        "K-최근접 이웃 알고리즘을 사용해 도미와 빙어 데이터 구분하기"
      ],
      "metadata": {
        "id": "OcJEBYe98FsC"
      }
    },
    {
      "cell_type": "code",
      "source": [
        "#도미와 빙어 데이터 하나의 데이터로 합치기\n",
        "#두 리스트를 더하면 하나의 리스트로 만들어 준다.\n",
        "length = bream_length + smelt_length\n",
        "weight = bream_weight + smelt_weight"
      ],
      "metadata": {
        "id": "KgIa7kOPSLQu"
      },
      "execution_count": 16,
      "outputs": []
    },
    {
      "cell_type": "code",
      "source": [
        "fish_data = [[l, w] for l, w in zip(length, weight)] #zip()함수로 length와 weight리스트에서 원소를 하나씩 꺼내어 l과 w에 할당하면 [l,w]가 하나의 원소로 구성된 리스트가 생성된다. \n",
        "print(fish_data)"
      ],
      "metadata": {
        "colab": {
          "base_uri": "https://localhost:8080/"
        },
        "id": "fSKAAmPwRUvw",
        "outputId": "96987cee-8a17-46c5-c0e0-c434d9ad5acc"
      },
      "execution_count": 18,
      "outputs": [
        {
          "output_type": "stream",
          "name": "stdout",
          "text": [
            "[[25.4, 242.0], [26.3, 290.0], [26.5, 340.0], [29.0, 363.0], [29.0, 430.0], [29.7, 450.0], [29.7, 500.0], [30.0, 390.0], [30.0, 450.0], [30.7, 500.0], [31.0, 475.0], [31.0, 500.0], [31.5, 500.0], [32.0, 340.0], [32.0, 600.0], [32.0, 600.0], [33.0, 700.0], [33.0, 700.0], [33.5, 610.0], [33.5, 650.0], [34.0, 575.0], [34.0, 685.0], [34.5, 620.0], [35.0, 680.0], [35.0, 700.0], [35.0, 725.0], [35.0, 720.0], [36.0, 714.0], [36.0, 850.0], [37.0, 1000.0], [38.5, 920.0], [38.5, 955.0], [39.5, 925.0], [41.0, 975.0], [41.0, 950.0], [9.8, 6.7], [10.5, 7.5], [10.6, 7.0], [11.0, 9.7], [11.2, 9.8], [11.3, 8.7], [11.8, 10.0], [11.8, 9.9], [12.0, 9.8], [12.2, 12.2], [12.4, 13.4], [13.0, 12.2], [14.3, 19.7], [15.0, 19.9]]\n"
          ]
        }
      ]
    },
    {
      "cell_type": "markdown",
      "source": [
        "* *사이킷런은 머신러닝 패키지이며 2차원 리스트(리스트의 리스트)가 필요하다.*\n",
        "* *2차원 리스트를 만드는 방법에는 zip( )함수와, 리스트 내포 구문을 사용하는 방법이 있다.*\n",
        "* *zip( )함수는 나열된 리스트 각각에서 하나씩 원소를 꺼내 반환한다.*"
      ],
      "metadata": {
        "id": "7iZqWcjFAXQH"
      }
    },
    {
      "cell_type": "code",
      "source": [
        "#정답 데이터 준비하기\n",
        "fish_target = [1] * 35 + [0] * 14\n",
        "print(fish_target)"
      ],
      "metadata": {
        "colab": {
          "base_uri": "https://localhost:8080/"
        },
        "id": "p0yxTXCmdoct",
        "outputId": "98079993-40ea-4217-c2ed-ff689424c041"
      },
      "execution_count": 19,
      "outputs": [
        {
          "output_type": "stream",
          "name": "stdout",
          "text": [
            "[1, 1, 1, 1, 1, 1, 1, 1, 1, 1, 1, 1, 1, 1, 1, 1, 1, 1, 1, 1, 1, 1, 1, 1, 1, 1, 1, 1, 1, 1, 1, 1, 1, 1, 1, 0, 0, 0, 0, 0, 0, 0, 0, 0, 0, 0, 0, 0, 0]\n"
          ]
        }
      ]
    },
    {
      "cell_type": "markdown",
      "source": [
        "* *머신러닝 알고리즘이 생선의 길이와 무게를 보고 도미와 빙어를 구분하는 규칙을 찾아야 한다. 이렇게 하려면 적어도 어떤 생선이 도미이고 빙어인지를 알려 주어야 한다.*\n",
        "* *컴퓨터 프로그램은 문자를 직접 이해하지 못하므로 도미와 빙어를 숫자 1과 0으로 표현한다.*\n",
        "* *곱셈 연산자 사용하여 리스트 반복*"
      ],
      "metadata": {
        "id": "Gpu5JjjiFfQn"
      }
    },
    {
      "cell_type": "code",
      "source": [
        "from sklearn.neighbors import KNeighborsClassifier\n",
        "kn = KNeighborsClassifier() #KNeighborsClassifier 클래스의 객체 만들기\n",
        "kn.fit(fish_data,fish_target) #fit()함수는 주어진 데이터로 알고리즘을 훈련"
      ],
      "metadata": {
        "colab": {
          "base_uri": "https://localhost:8080/"
        },
        "id": "sGtQfxqkdq5Q",
        "outputId": "0ec0e77c-5991-43b5-b4e9-7562909938ae"
      },
      "execution_count": 20,
      "outputs": [
        {
          "output_type": "execute_result",
          "data": {
            "text/plain": [
              "KNeighborsClassifier()"
            ]
          },
          "metadata": {},
          "execution_count": 20
        }
      ]
    },
    {
      "cell_type": "markdown",
      "source": [
        "* *훈련: 모델에 데이터를 전달하여 규칙을 학습하는 과정. (이 객체에 fish_data와 fish_target을 전달하여 도미를 찾기 위한 기준을 학습 시키는 것.)*\n",
        "* *훈련 메서드: fit( ) → 주어진 데이터로 알고리즘을 훈련.*\n",
        "* *과자 틀 → 클래스 (class)*\n",
        "* *과자 틀에 의해서 만들어진 과자 → 객체 (object)*"
      ],
      "metadata": {
        "id": "Bg_NVykdKMub"
      }
    },
    {
      "cell_type": "code",
      "source": [
        "#객체 kn이 얼마나 잘 훈련되었는지 평가하기\n",
        "kn.score(fish_data,fish_target)"
      ],
      "metadata": {
        "colab": {
          "base_uri": "https://localhost:8080/"
        },
        "id": "T4j51gjZd7-H",
        "outputId": "0de01712-4eaf-4a78-ff13-f57544dbe76b"
      },
      "execution_count": 21,
      "outputs": [
        {
          "output_type": "execute_result",
          "data": {
            "text/plain": [
              "1.0"
            ]
          },
          "metadata": {},
          "execution_count": 21
        }
      ]
    },
    {
      "cell_type": "markdown",
      "source": [
        "* *모델 평가 메서드: score( ) → 0과 1사이의 값 반환. 예를 들어 1은 모든 데이터를 정확히 맞혔다는 것을 나타냄.*\n",
        "* *머신러닝에서의 모델: 머신러닝 알고리즘을 구현한 프로그램 또는 프로그램이 아니더라도 알고리즘을(수식 등으로) 구체화하여 표현한 것*\n",
        "* *결과값 1.0은 모든 fish_data의 답을 정확하게 맞혔다는 것이다. 이 값을 정확도라 부른다. 따라서, 이 모델은 정확도가 100%이며 도미와 빙어를 완벽하게 분류했다.*"
      ],
      "metadata": {
        "id": "zQgGv0ouSvL4"
      }
    },
    {
      "cell_type": "markdown",
      "source": [
        "* *K-최근접 이웃 알고리즘은 어떤 데이터에 대한 답을 구할 때 주위의 다른 데이터를 보고 다수를 차지하는 것을 정답으로 사용한다.*\n",
        "* *K-최근접 이웃 알고리즘을 위해 준비해야 할 일은 데이터를 모두 가지고 있는 것이다.*\n",
        "* *장점: 새로운 데이터에 대해 예측할 때는 가장 가까운 직선거리에 어떤 데이터가 있는지를 살피기만 하면 된다.*\n",
        "* *단점: 데이터가 아주 많은 경우 사용하기 어렵다. 데이터가 크기 때문에 메모리가 많이 필요하고 직선거리를 계산하는 데도 많은 시간이 필요하다.*"
      ],
      "metadata": {
        "id": "sH34hm_jV3Wt"
      }
    },
    {
      "cell_type": "code",
      "source": [
        "#예시\n",
        "plt.scatter(bream_length, bream_weight)\n",
        "plt.scatter(smelt_length,smelt_weight)\n",
        "plt.scatter(30,600,marker='^')\n",
        "plt.xlabel('length')\n",
        "plt.ylabel('weight')\n",
        "plt.show()"
      ],
      "metadata": {
        "colab": {
          "base_uri": "https://localhost:8080/",
          "height": 279
        },
        "id": "OenQ9poceA4X",
        "outputId": "47168a5a-5fc3-419d-90d5-99fd37937d22"
      },
      "execution_count": 22,
      "outputs": [
        {
          "output_type": "display_data",
          "data": {
            "text/plain": [
              "<Figure size 432x288 with 1 Axes>"
            ],
            "image/png": "[encoded data removed]"
          },
          "metadata": {
            "needs_background": "light"
          }
        }
      ]
    },
    {
      "cell_type": "code",
      "source": [
        "kn.predict([[30,600]])"
      ],
      "metadata": {
        "colab": {
          "base_uri": "https://localhost:8080/"
        },
        "id": "OrwRlB3QehHa",
        "outputId": "21fd39d3-1b70-40bd-baa7-4030d9840295"
      },
      "execution_count": 23,
      "outputs": [
        {
          "output_type": "execute_result",
          "data": {
            "text/plain": [
              "array([1])"
            ]
          },
          "metadata": {},
          "execution_count": 23
        }
      ]
    },
    {
      "cell_type": "markdown",
      "source": [
        "* *predict( )메서드 → 새로운 데이터의 정답 예측. 리스트의 리스트를 전달해야함.*\n",
        "* *앞서 도미는 1, 빙어는 0으로 가정했으므로 반환되는 값은 1이다.*"
      ],
      "metadata": {
        "id": "_LQGZLMuX2uY"
      }
    },
    {
      "cell_type": "code",
      "source": [
        "print(kn._fit_X)"
      ],
      "metadata": {
        "colab": {
          "base_uri": "https://localhost:8080/"
        },
        "id": "j0czKSbCemua",
        "outputId": "80b644a5-7f01-4e97-d035-b4a283579986"
      },
      "execution_count": 24,
      "outputs": [
        {
          "output_type": "stream",
          "name": "stdout",
          "text": [
            "[[  25.4  242. ]\n",
            " [  26.3  290. ]\n",
            " [  26.5  340. ]\n",
            " [  29.   363. ]\n",
            " [  29.   430. ]\n",
            " [  29.7  450. ]\n",
            " [  29.7  500. ]\n",
            " [  30.   390. ]\n",
            " [  30.   450. ]\n",
            " [  30.7  500. ]\n",
            " [  31.   475. ]\n",
            " [  31.   500. ]\n",
            " [  31.5  500. ]\n",
            " [  32.   340. ]\n",
            " [  32.   600. ]\n",
            " [  32.   600. ]\n",
            " [  33.   700. ]\n",
            " [  33.   700. ]\n",
            " [  33.5  610. ]\n",
            " [  33.5  650. ]\n",
            " [  34.   575. ]\n",
            " [  34.   685. ]\n",
            " [  34.5  620. ]\n",
            " [  35.   680. ]\n",
            " [  35.   700. ]\n",
            " [  35.   725. ]\n",
            " [  35.   720. ]\n",
            " [  36.   714. ]\n",
            " [  36.   850. ]\n",
            " [  37.  1000. ]\n",
            " [  38.5  920. ]\n",
            " [  38.5  955. ]\n",
            " [  39.5  925. ]\n",
            " [  41.   975. ]\n",
            " [  41.   950. ]\n",
            " [   9.8    6.7]\n",
            " [  10.5    7.5]\n",
            " [  10.6    7. ]\n",
            " [  11.     9.7]\n",
            " [  11.2    9.8]\n",
            " [  11.3    8.7]\n",
            " [  11.8   10. ]\n",
            " [  11.8    9.9]\n",
            " [  12.     9.8]\n",
            " [  12.2   12.2]\n",
            " [  12.4   13.4]\n",
            " [  13.    12.2]\n",
            " [  14.3   19.7]\n",
            " [  15.    19.9]]\n"
          ]
        }
      ]
    },
    {
      "cell_type": "code",
      "source": [
        "print(kn._y)"
      ],
      "metadata": {
        "colab": {
          "base_uri": "https://localhost:8080/"
        },
        "id": "OHsRGQj0er8H",
        "outputId": "40fa0040-bdce-4d02-9140-f4a69d3ad2ea"
      },
      "execution_count": 25,
      "outputs": [
        {
          "output_type": "stream",
          "name": "stdout",
          "text": [
            "[1 1 1 1 1 1 1 1 1 1 1 1 1 1 1 1 1 1 1 1 1 1 1 1 1 1 1 1 1 1 1 1 1 1 1 0 0\n",
            " 0 0 0 0 0 0 0 0 0 0 0 0]\n"
          ]
        }
      ]
    },
    {
      "cell_type": "code",
      "source": [
        "kn49=KNeighborsClassifier(n_neighbors=49)\n",
        "kn49.fit(fish_data,fish_target)\n",
        "kn49.score(fish_data,fish_target)"
      ],
      "metadata": {
        "colab": {
          "base_uri": "https://localhost:8080/"
        },
        "id": "o8kNAHL3evI1",
        "outputId": "2e993f34-d98e-47a9-bcc9-8dd308716ba6"
      },
      "execution_count": 39,
      "outputs": [
        {
          "output_type": "execute_result",
          "data": {
            "text/plain": [
              "0.7142857142857143"
            ]
          },
          "metadata": {},
          "execution_count": 39
        }
      ]
    },
    {
      "cell_type": "markdown",
      "source": [
        "* *KNeighborsClassifier 클래스의 기본값은 5이다. 이 기준은 n_neighbors 매개변수로 바꿀 수 있다.*\n",
        "* *kn49=KNeighborsClassifier(n_neighbors=49) 이는 가장 가까운 데이터 49개를 사용하는 K-최근접 이웃 모델에 fish_data를 적용하면 fish_data에 있는 모든 생선을 사용하여 예측하게 된다. 즉, fish_data의 데이터 49개 중에 도미가 35개로 다수를 차지하므로 어떤 데이터를 넣어도 무조건 도미로 예측할 것이다.* "
      ],
      "metadata": {
        "id": "aFrleSKPd-uj"
      }
    },
    {
      "cell_type": "code",
      "source": [
        "print(35/49)"
      ],
      "metadata": {
        "colab": {
          "base_uri": "https://localhost:8080/"
        },
        "id": "6b6qIO5Re-0H",
        "outputId": "c532529b-6224-4840-aa31-b2cb7f3afc05"
      },
      "execution_count": 27,
      "outputs": [
        {
          "output_type": "stream",
          "name": "stdout",
          "text": [
            "0.7142857142857143\n"
          ]
        }
      ]
    },
    {
      "cell_type": "markdown",
      "source": [
        "확인문제: 정확도가 100%가 아닌 n_neighbor지점 찾기"
      ],
      "metadata": {
        "id": "WASKO-Fujl8o"
      }
    },
    {
      "cell_type": "code",
      "source": [
        "kn=KNeighborsClassifier()\n",
        "kn.fit(fish_data,fish_target)\n",
        "for n in range(5,50):\n",
        "  kn.n_neighbors=n\n",
        "  score=kn.score(fish_data,fish_target)\n",
        "  if score<1:\n",
        "    print(n,score)\n",
        "    break"
      ],
      "metadata": {
        "colab": {
          "base_uri": "https://localhost:8080/"
        },
        "id": "4Rfh0T5ZhZHf",
        "outputId": "682d9ff9-b66d-48d7-c1f6-3701feb349c9"
      },
      "execution_count": 41,
      "outputs": [
        {
          "output_type": "stream",
          "name": "stdout",
          "text": [
            "18 0.9795918367346939\n"
          ]
        }
      ]
    }
  ]
}